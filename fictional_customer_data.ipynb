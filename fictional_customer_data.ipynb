{
 "cells": [
  {
   "cell_type": "code",
   "execution_count": 81,
   "id": "02f3b8c2-7b1e-4148-8e96-692ffb499495",
   "metadata": {},
   "outputs": [],
   "source": [
    "import pandas as pd\n",
    "import matplotlib.pyplot as plt\n",
    "import seaborn as sns"
   ]
  },
  {
   "cell_type": "code",
   "execution_count": 3,
   "id": "26e6f986-7927-4696-846c-1975489f6fa7",
   "metadata": {},
   "outputs": [],
   "source": [
    "#This is a basic analysis of a company's client data. **The data is fictional and only for demonstrative purposes.** In this example, my conmpany would like to focus on increasing market share in our strongest markets, so I am going to analyze this set of data for 10,000 of our clients to see which 10 countries are accounting for the highest volume of sales, so that I can give this data to our marketing department, allowing them to create appropriate marketing campaigns for our 10 strongest markets."
   ]
  },
  {
   "cell_type": "code",
   "execution_count": 5,
   "id": "67be6e5c-990d-4e8c-bcaa-97d937a5169e",
   "metadata": {},
   "outputs": [],
   "source": [
    "#The first thing I am going to do is import the CSV of our customer data."
   ]
  },
  {
   "cell_type": "code",
   "execution_count": 5,
   "id": "3b5885c2-2259-4bbd-8bab-4d9a608563a7",
   "metadata": {},
   "outputs": [],
   "source": [
    "customers = pd.read_csv(\"C:\\\\Users\\\\diamo\\\\datasets\\\\customers-100000.csv\")"
   ]
  },
  {
   "cell_type": "code",
   "execution_count": 26,
   "id": "330eb92a-c062-49e8-9d29-b7d33bd26f39",
   "metadata": {},
   "outputs": [],
   "source": [
    "#Now I am going to take a look at the first five rows of data for each column to get an idea of what the data set contains."
   ]
  },
  {
   "cell_type": "code",
   "execution_count": 7,
   "id": "6bd95b6b-391f-4a9e-938e-09dec9f3ee1e",
   "metadata": {},
   "outputs": [
    {
     "name": "stdout",
     "output_type": "stream",
     "text": [
      "   Index      Customer Id First Name   Last Name                    Company  \\\n",
      "0      1  ffeCAb7AbcB0f07      Jared      Jarvis           Sanchez-Fletcher   \n",
      "1      2  b687FfC4F1600eC      Marie      Malone                  Mckay PLC   \n",
      "2      3  9FF9ACbc69dcF9c     Elijah     Barrera             Marks and Sons   \n",
      "3      4  b49edDB1295FF6E     Sheryl  Montgomery  Kirby, Vaughn and Sanders   \n",
      "4      5  3dcCbFEB17CCf2E     Jeremy     Houston             Lester-Manning   \n",
      "\n",
      "             City                                       Country  \\\n",
      "0   Hatfieldshire                                       Eritrea   \n",
      "1  Robertsonburgh                                      Botswana   \n",
      "2         Kimbury                                      Barbados   \n",
      "3     Briannaview  Antarctica (the territory South of 60 deg S)   \n",
      "4   South Brianna                                    Micronesia   \n",
      "\n",
      "                Phone 1               Phone 2  \\\n",
      "0    274.188.8773x41185  001-215-760-4642x969   \n",
      "1          283-236-9529   (189)129-8356x63741   \n",
      "2            8252703789     459-916-7241x0909   \n",
      "3          425.475.3586         (392)819-9063   \n",
      "4  +1-223-666-5313x4530      252-488-3850x692   \n",
      "\n",
      "                              Email Subscription Date  \\\n",
      "0     gabriellehartman@benjamin.com        2021-11-11   \n",
      "1              kstafford@sexton.com        2021-05-14   \n",
      "2           jeanettecross@brown.com        2021-03-17   \n",
      "3          thomassierra@barrett.com        2020-09-23   \n",
      "4  rubenwatkins@jacobs-wallace.info        2020-09-18   \n",
      "\n",
      "                         Website  \n",
      "0     https://www.mccarthy.info/  \n",
      "1       http://www.reynolds.com/  \n",
      "2              https://neal.com/  \n",
      "3  https://www.powell-bryan.com/  \n",
      "4      https://www.carrillo.com/  \n"
     ]
    }
   ],
   "source": [
    "print(customers.head())"
   ]
  },
  {
   "cell_type": "code",
   "execution_count": 11,
   "id": "b48a3932-2702-4eb6-bf27-9b23e140c049",
   "metadata": {},
   "outputs": [],
   "source": [
    "#Great. Now I am going to isolate the countries into their own variable so I can get some better information about that column."
   ]
  },
  {
   "cell_type": "code",
   "execution_count": 11,
   "id": "36fd337b-ed6b-4b2a-be56-aa74aad604c5",
   "metadata": {},
   "outputs": [],
   "source": [
    "country = customers['Country']"
   ]
  },
  {
   "cell_type": "code",
   "execution_count": 15,
   "id": "d5181c95-83d2-4c9f-a96d-7e42b1fa28cc",
   "metadata": {},
   "outputs": [],
   "source": [
    "country_list = country.unique()"
   ]
  },
  {
   "cell_type": "code",
   "execution_count": 17,
   "id": "775c3be7-adcc-4687-af7b-3d11cefbabd4",
   "metadata": {},
   "outputs": [
    {
     "name": "stdout",
     "output_type": "stream",
     "text": [
      "['Eritrea' 'Botswana' 'Barbados'\n",
      " 'Antarctica (the territory South of 60 deg S)' 'Micronesia' 'Panama'\n",
      " 'United States of America' 'American Samoa'\n",
      " 'Saint Vincent and the Grenadines' 'Tanzania' 'Central African Republic'\n",
      " 'Falkland Islands (Malvinas)' 'Sudan' 'Faroe Islands' 'Bangladesh'\n",
      " 'Estonia' 'Venezuela' 'Nauru' 'Saint Kitts and Nevis' 'Ghana'\n",
      " 'San Marino' 'Yemen' 'Azerbaijan' 'Libyan Arab Jamahiriya' 'Saint Helena'\n",
      " 'Swaziland' 'Malaysia' 'Zambia' 'Korea' 'Uzbekistan'\n",
      " \"Lao People's Democratic Republic\" 'Mongolia' 'Turks and Caicos Islands'\n",
      " 'Kenya' 'Tajikistan' 'Somalia' 'Bahamas' 'Samoa' 'Senegal' 'Isle of Man'\n",
      " 'Armenia' 'French Southern Territories' 'Taiwan' 'Tokelau' 'Slovenia'\n",
      " 'Bulgaria' 'Russian Federation' 'Spain' 'Burundi' 'Antigua and Barbuda'\n",
      " 'Niger' 'Greece' 'Timor-Leste' 'Romania' 'Ethiopia' 'Western Sahara'\n",
      " 'Bolivia' 'Kazakhstan' 'Nigeria' 'Maldives' 'Morocco' 'India'\n",
      " 'French Guiana' 'Italy' 'Heard Island and McDonald Islands'\n",
      " 'Brunei Darussalam' 'Philippines' 'Christmas Island' 'Israel' 'Gambia'\n",
      " 'Netherlands' 'United States Virgin Islands' 'Vietnam' 'Mauritania'\n",
      " 'Oman' 'Turkey' 'Guinea' 'Mexico' 'Iraq' 'Bouvet Island (Bouvetoya)'\n",
      " 'Germany' 'Angola' 'Mozambique' 'Trinidad and Tobago' 'Gibraltar'\n",
      " 'Cook Islands' 'Namibia' 'Seychelles' 'Netherlands Antilles' 'Cyprus'\n",
      " 'Austria' 'Svalbard & Jan Mayen Islands' 'Iceland' 'Congo' 'Iran'\n",
      " 'Myanmar' 'Vanuatu' 'Puerto Rico' 'Ukraine' 'Liberia' 'Liechtenstein'\n",
      " 'Sri Lanka' 'Guyana'\n",
      " 'British Indian Ocean Territory (Chagos Archipelago)' 'Fiji'\n",
      " 'British Virgin Islands' 'Honduras' 'Kyrgyz Republic' 'Uganda' 'Bhutan'\n",
      " 'Malta' 'Egypt' 'Bosnia and Herzegovina' 'Guatemala' 'Pitcairn Islands'\n",
      " 'Wallis and Futuna' 'Chile' 'Papua New Guinea' 'Greenland' 'Kiribati'\n",
      " 'Croatia' 'Thailand' 'Syrian Arab Republic' 'Kuwait' 'Haiti'\n",
      " 'Afghanistan' 'Montenegro' 'Norfolk Island' 'Czech Republic' 'Singapore'\n",
      " 'Aruba' 'Tonga' 'Northern Mariana Islands' 'El Salvador' 'Mauritius'\n",
      " 'Switzerland' 'Tuvalu' 'New Zealand' 'Poland' 'Saint Lucia' 'Jamaica'\n",
      " 'Georgia' 'Albania' 'Suriname' 'Guam' 'Andorra' 'Jersey' 'Algeria'\n",
      " 'Marshall Islands' 'Montserrat' 'Moldova' 'New Caledonia' 'Zimbabwe'\n",
      " 'Guernsey' 'Lithuania' 'Burkina Faso' 'Chad' 'Denmark' 'China'\n",
      " 'Holy See (Vatican City State)' 'Macedonia' 'Jordan' 'Sweden'\n",
      " 'Dominican Republic' 'Argentina' 'United Kingdom' 'Uruguay' 'Portugal'\n",
      " 'Finland' 'Sao Tome and Principe' 'Guinea-Bissau' 'Costa Rica'\n",
      " 'Saudi Arabia' 'Lebanon' 'Cape Verde' 'Cuba' 'Niue' \"Cote d'Ivoire\"\n",
      " 'Lesotho' 'Ecuador' 'Bermuda' 'Djibouti' 'Equatorial Guinea' 'Cambodia'\n",
      " 'Cameroon' 'Palestinian Territory' 'French Polynesia' 'Colombia' 'Latvia'\n",
      " 'Serbia' 'Benin' 'Tunisia' 'Saint Barthelemy' 'Cocos (Keeling) Islands'\n",
      " 'Saint Pierre and Miquelon' 'United States Minor Outlying Islands' 'Togo'\n",
      " 'South Georgia and the South Sandwich Islands' 'Norway' 'Brazil'\n",
      " 'Saint Martin' 'France' 'Guadeloupe' 'Rwanda' 'Palau' 'Madagascar' 'Mali'\n",
      " 'Nepal' 'Monaco' 'Hong Kong' 'Martinique' 'Hungary' 'Macao' 'Qatar'\n",
      " 'Reunion' 'Peru' 'Gabon' 'Belarus' 'Solomon Islands' 'Anguilla' 'Belgium'\n",
      " 'Ireland' 'Cayman Islands' 'Mayotte' 'Grenada' 'Indonesia' 'Dominica'\n",
      " 'Bahrain' 'Belize' 'Pakistan' 'Canada' 'Nicaragua' 'Comoros'\n",
      " 'Sierra Leone' 'Australia' 'Luxembourg' 'Turkmenistan' 'Malawi'\n",
      " 'South Africa' 'Slovakia (Slovak Republic)' 'Paraguay'\n",
      " 'United Arab Emirates' 'Japan']\n"
     ]
    }
   ],
   "source": [
    "print(country_list)"
   ]
  },
  {
   "cell_type": "code",
   "execution_count": 19,
   "id": "3a3f9948-7eeb-49ea-adc4-3eb7e4b50f0d",
   "metadata": {},
   "outputs": [],
   "source": [
    "#Wow. That is a lot of countries and the information isn't particularly useful I am going to go a couple steps further to get some numeric values of how many clients we have for each of those countries, so I can get the top 10 strongest markets to our marketing department."
   ]
  },
  {
   "cell_type": "code",
   "execution_count": 19,
   "id": "cebcb85c-c2d6-4f7a-b43b-c4e14115bf51",
   "metadata": {},
   "outputs": [],
   "source": [
    "country_counts = country.value_counts()"
   ]
  },
  {
   "cell_type": "code",
   "execution_count": 22,
   "id": "60634ccd-3d65-4e0f-a248-2058560401a8",
   "metadata": {},
   "outputs": [],
   "source": [
    "country_counts_dict = country_counts.to_dict()"
   ]
  },
  {
   "cell_type": "code",
   "execution_count": 24,
   "id": "4403b50b-fed5-44f6-a35a-6e97fc57c889",
   "metadata": {
    "scrolled": true
   },
   "outputs": [
    {
     "name": "stdout",
     "output_type": "stream",
     "text": [
      "{'Congo': 835, 'Korea': 820, 'Saudi Arabia': 463, 'Pitcairn Islands': 456, 'Saint Martin': 453, 'Paraguay': 445, 'Canada': 444, 'American Samoa': 443, 'Saint Kitts and Nevis': 443, 'Cook Islands': 441, 'Mauritania': 441, 'Heard Island and McDonald Islands': 440, 'Montenegro': 439, 'Namibia': 439, 'Guyana': 438, 'Guam': 438, 'United States Minor Outlying Islands': 438, 'Kenya': 438, 'Bolivia': 438, 'Luxembourg': 438, 'Papua New Guinea': 436, 'Algeria': 435, 'Liberia': 435, 'Saint Pierre and Miquelon': 434, 'Svalbard & Jan Mayen Islands': 434, 'British Virgin Islands': 434, 'Greenland': 432, 'Georgia': 432, 'New Zealand': 432, 'Micronesia': 432, 'Mayotte': 431, 'Kiribati': 430, 'Cape Verde': 430, 'Netherlands': 429, 'Saint Helena': 429, 'Saint Barthelemy': 429, 'Christmas Island': 429, 'Central African Republic': 429, \"Lao People's Democratic Republic\": 428, 'Aruba': 428, 'Turkmenistan': 428, 'Croatia': 427, 'Swaziland': 427, 'Armenia': 427, 'Poland': 427, 'Belize': 426, 'Guatemala': 426, 'Haiti': 426, 'China': 425, 'Burundi': 425, 'Czech Republic': 425, 'Montserrat': 425, 'Uganda': 425, 'Bahrain': 425, 'Syrian Arab Republic': 424, 'Hungary': 424, 'Comoros': 424, 'Trinidad and Tobago': 423, 'Turks and Caicos Islands': 423, 'Singapore': 423, 'Barbados': 423, 'British Indian Ocean Territory (Chagos Archipelago)': 423, 'Denmark': 422, 'Indonesia': 422, 'Albania': 421, 'Bulgaria': 421, 'Bahamas': 421, 'French Polynesia': 421, 'Western Sahara': 420, 'Cuba': 420, 'Thailand': 420, 'Brunei Darussalam': 419, 'Tuvalu': 419, 'Mexico': 419, 'Bhutan': 418, 'Seychelles': 418, 'Malawi': 418, 'Japan': 418, 'Panama': 418, 'Zambia': 418, 'Afghanistan': 417, 'Uruguay': 417, 'Marshall Islands': 417, 'Cambodia': 417, 'Tajikistan': 417, 'Tunisia': 417, 'United States of America': 417, 'Nauru': 417, 'Lithuania': 417, 'Russian Federation': 416, 'Mozambique': 416, 'Malaysia': 416, 'United Arab Emirates': 416, 'Portugal': 416, 'Senegal': 415, 'Pakistan': 415, 'Fiji': 415, 'Cocos (Keeling) Islands': 415, 'Israel': 414, 'Jamaica': 414, 'Tanzania': 414, 'Oman': 414, 'Antarctica (the territory South of 60 deg S)': 414, 'Taiwan': 414, 'Monaco': 414, 'Chad': 413, 'Andorra': 413, 'Vanuatu': 413, 'Hong Kong': 412, 'Sao Tome and Principe': 412, 'France': 412, 'Grenada': 411, 'Holy See (Vatican City State)': 411, 'Togo': 411, 'Bosnia and Herzegovina': 410, 'French Guiana': 410, 'Gabon': 410, 'Ecuador': 410, 'United Kingdom': 410, 'Norfolk Island': 409, 'Finland': 409, 'Turkey': 409, 'Bouvet Island (Bouvetoya)': 409, 'Austria': 409, 'Maldives': 409, 'Guinea': 408, 'India': 408, 'Falkland Islands (Malvinas)': 407, 'Belarus': 406, 'Colombia': 406, 'Cameroon': 405, 'Equatorial Guinea': 405, 'Sweden': 405, 'San Marino': 405, 'Northern Mariana Islands': 405, 'Mongolia': 405, 'Madagascar': 405, 'Malta': 405, 'Iceland': 405, 'Botswana': 404, 'Wallis and Futuna': 404, 'Ethiopia': 404, 'Yemen': 404, 'Morocco': 404, 'Ghana': 404, 'Estonia': 404, 'Macao': 403, 'Dominica': 403, 'Philippines': 403, 'Guinea-Bissau': 403, 'Nigeria': 403, 'Serbia': 402, 'Netherlands Antilles': 402, 'Palestinian Territory': 402, 'Italy': 402, 'Solomon Islands': 402, 'Reunion': 402, 'Romania': 402, 'Kyrgyz Republic': 401, 'Kazakhstan': 401, 'Timor-Leste': 401, 'Bermuda': 400, 'Djibouti': 400, 'Lebanon': 400, 'Macedonia': 400, 'Sierra Leone': 400, 'Belgium': 400, 'Niger': 400, 'Spain': 400, 'Benin': 400, 'Tokelau': 400, 'Peru': 399, 'Vietnam': 399, 'Lesotho': 399, 'Myanmar': 398, 'Angola': 398, 'Niue': 398, 'Chile': 397, 'Cyprus': 397, 'Gambia': 397, 'Slovakia (Slovak Republic)': 396, 'Argentina': 395, 'Brazil': 395, 'Isle of Man': 395, 'Tonga': 394, 'Sri Lanka': 394, 'South Africa': 393, 'Saint Vincent and the Grenadines': 393, 'Nicaragua': 393, 'Eritrea': 393, 'Libyan Arab Jamahiriya': 392, 'Kuwait': 392, 'Norway': 392, 'Mali': 392, 'Palau': 391, 'Germany': 391, 'Rwanda': 390, 'Puerto Rico': 389, 'El Salvador': 388, 'Faroe Islands': 388, 'Switzerland': 388, 'Ireland': 388, 'Jersey': 387, 'Latvia': 387, 'Burkina Faso': 385, 'Australia': 385, 'Cayman Islands': 385, 'Guadeloupe': 384, 'Zimbabwe': 384, 'Uzbekistan': 384, 'Honduras': 384, 'South Georgia and the South Sandwich Islands': 384, 'Mauritius': 384, 'Bangladesh': 383, 'Liechtenstein': 382, 'Nepal': 381, 'United States Virgin Islands': 381, 'Gibraltar': 380, 'Suriname': 380, 'Anguilla': 379, 'Costa Rica': 379, 'Samoa': 379, 'New Caledonia': 379, 'Martinique': 378, 'Dominican Republic': 378, 'Ukraine': 378, 'Iraq': 378, 'Qatar': 378, 'Venezuela': 377, 'Sudan': 377, 'French Southern Territories': 375, 'Azerbaijan': 375, \"Cote d'Ivoire\": 375, 'Egypt': 374, 'Somalia': 374, 'Guernsey': 373, 'Iran': 373, 'Antigua and Barbuda': 371, 'Moldova': 371, 'Jordan': 365, 'Saint Lucia': 365, 'Slovenia': 361, 'Greece': 359}\n"
     ]
    }
   ],
   "source": [
    "print(country_counts_dict)"
   ]
  },
  {
   "cell_type": "code",
   "execution_count": 36,
   "id": "71443f19-824b-460d-a3d0-a1350bc973d8",
   "metadata": {},
   "outputs": [],
   "source": [
    "top_10_countries = list(country_counts_dict.items())[:10]"
   ]
  },
  {
   "cell_type": "code",
   "execution_count": 40,
   "id": "7be925ad-9fc1-41fa-8815-a03e907ac6ba",
   "metadata": {},
   "outputs": [
    {
     "name": "stdout",
     "output_type": "stream",
     "text": [
      "[('Congo', 835), ('Korea', 820), ('Saudi Arabia', 463), ('Pitcairn Islands', 456), ('Saint Martin', 453), ('Paraguay', 445), ('Canada', 444), ('American Samoa', 443), ('Saint Kitts and Nevis', 443), ('Cook Islands', 441)]\n"
     ]
    }
   ],
   "source": [
    "print(top_10_countries)"
   ]
  },
  {
   "cell_type": "code",
   "execution_count": 42,
   "id": "312422cb-98dd-457f-95ab-498bb48e9e8b",
   "metadata": {},
   "outputs": [],
   "source": [
    "#And voila. These are the top 10 geographic markets for our company. I can now get this information to our marketing department, so they can start on their geographically specific campaigns. But marketing is expensive, so let's be safe and see if there are any countries that are in the top 10 range, where it might be a good idea to include them in our marketing campaign so that we can really maximize our marketing efforts and increase our market share in our strongest markets.."
   ]
  },
  {
   "cell_type": "code",
   "execution_count": 48,
   "id": "ca5d8d74-6fce-4bf5-aa16-b7853bdf69e5",
   "metadata": {},
   "outputs": [],
   "source": [
    "other_strong_markets = list(country_counts_dict.items())[10:20]"
   ]
  },
  {
   "cell_type": "code",
   "execution_count": 50,
   "id": "7590d0fa-431f-4214-afeb-186284a7c435",
   "metadata": {},
   "outputs": [
    {
     "name": "stdout",
     "output_type": "stream",
     "text": [
      "[('Mauritania', 441), ('Heard Island and McDonald Islands', 440), ('Montenegro', 439), ('Namibia', 439), ('Guyana', 438), ('Guam', 438), ('United States Minor Outlying Islands', 438), ('Kenya', 438), ('Bolivia', 438), ('Luxembourg', 438)]\n"
     ]
    }
   ],
   "source": [
    "print(other_strong_markets)"
   ]
  },
  {
   "cell_type": "code",
   "execution_count": 52,
   "id": "b7d5f0a5-2525-4c01-933b-56aff1d31582",
   "metadata": {},
   "outputs": [],
   "source": [
    "#Wow! We had the same amount of clients in Cook Islands and Mauritania (441), so these would both be our 10th strongest market. Sounds like it is time to get together and do some brainstorming. Should we focus our efforts on our top 9 clients and allocate additional resources to each region?  Or should we stretch our marketing budget over 11 regions? Maybe there is additional information in a different data set that includes how much was spent in each region, and we could use that infomation to help drive our marketing efforts. And after our meeting, the decision has been made to focus our efforts on our 9 strongest markets because we don't have any additional data about how much was spent in each region. So lets get a list of our top 9 markets, and lets tear the data down a little more to get the percentage of our marketing budget we should allocate to each country's campaign."
   ]
  },
  {
   "cell_type": "code",
   "execution_count": 57,
   "id": "bcb10106-04b6-438f-bbe5-d70bb09892c8",
   "metadata": {},
   "outputs": [],
   "source": [
    "top_9_countries = list(country_counts_dict.items())[:9]"
   ]
  },
  {
   "cell_type": "code",
   "execution_count": 59,
   "id": "09302514-36ea-4eda-8432-ab1304f5a808",
   "metadata": {},
   "outputs": [],
   "source": [
    "#So here are the countries where we will be focusing our next marketing efforts."
   ]
  },
  {
   "cell_type": "code",
   "execution_count": 61,
   "id": "d242ee0f-98f0-47b8-b822-eab396382856",
   "metadata": {},
   "outputs": [
    {
     "name": "stdout",
     "output_type": "stream",
     "text": [
      "[('Congo', 835), ('Korea', 820), ('Saudi Arabia', 463), ('Pitcairn Islands', 456), ('Saint Martin', 453), ('Paraguay', 445), ('Canada', 444), ('American Samoa', 443), ('Saint Kitts and Nevis', 443)]\n"
     ]
    }
   ],
   "source": [
    "print(top_9_countries)"
   ]
  },
  {
   "cell_type": "code",
   "execution_count": 63,
   "id": "baf12a72-e6f4-4904-97d9-ee1320ad8e4d",
   "metadata": {},
   "outputs": [],
   "source": [
    "#Now lets make some visualizations and with percentages so that our marketing department knows not only which countries to focus their next campaign, but also how to allocate their budget, basing budget allocations on percentage of total sales of our 9 strongest markets."
   ]
  },
  {
   "cell_type": "code",
   "execution_count": 71,
   "id": "1db7153c-5976-48ea-8027-b3b0b422e10f",
   "metadata": {},
   "outputs": [],
   "source": [
    "campaign_data = pd.DataFrame(top_9_countries, columns=['Country', 'Count'])"
   ]
  },
  {
   "cell_type": "code",
   "execution_count": 73,
   "id": "746dd5d0-9014-419e-9271-859879ebc3e2",
   "metadata": {},
   "outputs": [],
   "source": [
    "campaign_data['Percentage'] = (campaign_data['Count'] / campaign_data['Count'].sum()) * 100"
   ]
  },
  {
   "cell_type": "code",
   "execution_count": 75,
   "id": "51a4c6ce-01dc-48b0-8fe3-ab621324c59d",
   "metadata": {},
   "outputs": [
    {
     "name": "stdout",
     "output_type": "stream",
     "text": [
      "                 Country  Count  Percentage\n",
      "0                  Congo    835   17.388588\n",
      "1                  Korea    820   17.076218\n",
      "2           Saudi Arabia    463    9.641816\n",
      "3       Pitcairn Islands    456    9.496043\n",
      "4           Saint Martin    453    9.433569\n",
      "5               Paraguay    445    9.266972\n",
      "6                 Canada    444    9.246147\n",
      "7         American Samoa    443    9.225323\n",
      "8  Saint Kitts and Nevis    443    9.225323\n"
     ]
    }
   ],
   "source": [
    "print(campaign_data)"
   ]
  },
  {
   "cell_type": "code",
   "execution_count": 100,
   "id": "8fd7778d-1f28-4263-be2c-49b6841d2583",
   "metadata": {},
   "outputs": [],
   "source": [
    "#So here are the precentages each country represents in sales volume out the 9 countries where we will be directing our marketing efforts."
   ]
  },
  {
   "cell_type": "code",
   "execution_count": 94,
   "id": "d1b8f128-f114-42c4-ba2a-839e4c1bceac",
   "metadata": {},
   "outputs": [
    {
     "data": {
      "image/png": "[encoded data removed]",
      "text/plain": [
       "<Figure size 1000x600 with 1 Axes>"
      ]
     },
     "metadata": {},
     "output_type": "display_data"
    }
   ],
   "source": [
    "plt.figure(figsize=(10, 6))\n",
    "sns.barplot(data=campaign_data, x='Percentage', y='Country')\n",
    "for index, value in enumerate(campaign_data['Percentage']):\n",
    "    plt.text(\n",
    "        min(value, 98),\n",
    "        index,\n",
    "        f'{value:.2f}%',\n",
    "        color='black',\n",
    "        ha='left',\n",
    "        va='center',\n",
    "        clip_on=True\n",
    "    )\n",
    "plt.xlabel('Percentage of Total Customers (%)')\n",
    "plt.ylabel('Country')\n",
    "plt.title('Top Markets and Marketing Budget Allocations')\n",
    "plt.show()"
   ]
  },
  {
   "cell_type": "code",
   "execution_count": 96,
   "id": "f9d9a6d9-31dd-4c4d-a71f-a2b588082b46",
   "metadata": {},
   "outputs": [],
   "source": [
    "#And there we go! Here is a nice graph, including the percentages of our marketing budget each country will receive, to make the information a little easier to interpret. Now I can get this data over to our marketing department so that they know what percentage of our marketing budget to allocate to each geographic region so that we can maximize our marketing efforts and increase our company's market share!"
   ]
  }
 ],
 "metadata": {
  "kernelspec": {
   "display_name": "Python 3 (ipykernel)",
   "language": "python",
   "name": "python3"
  },
  "language_info": {
   "codemirror_mode": {
    "name": "ipython",
    "version": 3
   },
   "file_extension": ".py",
   "mimetype": "text/x-python",
   "name": "python",
   "nbconvert_exporter": "python",
   "pygments_lexer": "ipython3",
   "version": "3.12.7"
  }
 },
 "nbformat": 4,
 "nbformat_minor": 5
}
